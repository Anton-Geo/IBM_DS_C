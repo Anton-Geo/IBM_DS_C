{
 "cells": [
  {
   "cell_type": "markdown",
   "id": "7c455763-6bed-405b-96d2-d7122bc5167c",
   "metadata": {},
   "source": [
    "# Data Science Tools and Ecosystem"
   ]
  },
  {
   "cell_type": "markdown",
   "id": "deebee33-0a5a-4aee-b38d-7856bcff2dbd",
   "metadata": {},
   "source": [
    "In this notebook, Data Science Tools and Ecosystem are summarized."
   ]
  },
  {
   "cell_type": "markdown",
   "id": "0018c7e9-30cb-40e7-98ce-f106b4cf3815",
   "metadata": {},
   "source": [
    "__Objectives__:\n",
    "- List popular languages for Data Science\n",
    "- List popular libraries for Data Science\n",
    "- List popular open source Environment tool for Data Science"
   ]
  },
  {
   "cell_type": "markdown",
   "id": "9c81dab8-17d8-4a79-879a-c51be1f1e47b",
   "metadata": {},
   "source": [
    "Some of the popular languages that Data Scientists use are:\n",
    "1. __Python__\n",
    "2. __SQL__\n",
    "3. __R__"
   ]
  },
  {
   "cell_type": "markdown",
   "id": "90f2532c-d07c-44bf-8e5d-b5606216e1f5",
   "metadata": {},
   "source": [
    "Some of the commonly used libraries used by Data Scientists include:\n",
    "\n",
    "__Python libraries__:\n",
    "1. __NumPy__ for working with multidimensional arrays\n",
    "2. __Pandas__ for for data manipulation and analysis via structured datasets\n",
    "3. __Matplotlib__ / __Plotly__ / __Seaborn__ for visualization\n",
    "4. __SciPy__ for scientific computing and technical computing including modules for optimization, linear algebra, interpolation, signal and image processing, and other tasks common in science and engineering\n",
    "5. __Scikit-learn__ for machine learning\n",
    "6. __PyTorch__ / __TensorFlow__ for deep learning\n",
    "\n",
    "__R libraries__:\n",
    "1. __dplyr__ for for data manipulation\n",
    "2. __ggplot2__  for data visualization\n",
    "3. __caret__ for machine learning"
   ]
  },
  {
   "cell_type": "markdown",
   "id": "36bc8669-5cc0-4187-88b3-53c0da3984f4",
   "metadata": {},
   "source": [
    "|Data Science Tools|\n",
    "------\n",
    "|Jupyter Notebook|\n",
    "|JupyterLab|\n",
    "|Apache Zeppelin|\n",
    "|Spyder|\n",
    "|RStudio|\n",
    "|Apache Spark|\n",
    "|DBeaver Community Edition|"
   ]
  },
  {
   "cell_type": "markdown",
   "id": "3591e996-dcd1-452c-9cd8-e1fed74734b6",
   "metadata": {},
   "source": [
    "### Below are a few examples of evaluating arithmetic expressions in Python"
   ]
  },
  {
   "cell_type": "code",
   "execution_count": 19,
   "id": "5cd51674-0340-4de0-990d-512375590ccb",
   "metadata": {},
   "outputs": [
    {
     "data": {
      "text/plain": [
       "17"
      ]
     },
     "execution_count": 19,
     "metadata": {},
     "output_type": "execute_result"
    }
   ],
   "source": [
    "# This a simple arithmetic expression to mutiply then add integers\n",
    "(3 * 4) + 5"
   ]
  },
  {
   "cell_type": "code",
   "execution_count": 25,
   "id": "fdef8fa2-00b0-448e-8706-891630925a34",
   "metadata": {},
   "outputs": [
    {
     "data": {
      "text/plain": [
       "3.333"
      ]
     },
     "execution_count": 25,
     "metadata": {},
     "output_type": "execute_result"
    }
   ],
   "source": [
    "# This will convert 200 minutes to hours by diving by 60\n",
    "def convert_min_to_hours(minutes, sign_digits=3):\n",
    "    return round(minutes / 60, sign_digits)\n",
    "    \n",
    "convert_min_to_hours(200)"
   ]
  },
  {
   "cell_type": "markdown",
   "id": "c9ad55ab-7b71-47d7-8490-d241cf1d2fe3",
   "metadata": {},
   "source": [
    "## Author\n",
    "Anton Bannikov"
   ]
  }
 ],
 "metadata": {
  "kernelspec": {
   "display_name": "Python 3 (ipykernel)",
   "language": "python",
   "name": "python3"
  },
  "language_info": {
   "codemirror_mode": {
    "name": "ipython",
    "version": 3
   },
   "file_extension": ".py",
   "mimetype": "text/x-python",
   "name": "python",
   "nbconvert_exporter": "python",
   "pygments_lexer": "ipython3",
   "version": "3.9.19"
  }
 },
 "nbformat": 4,
 "nbformat_minor": 5
}
